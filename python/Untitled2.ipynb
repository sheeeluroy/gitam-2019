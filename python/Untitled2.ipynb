{
 "cells": [
  {
   "cell_type": "code",
   "execution_count": 1,
   "metadata": {},
   "outputs": [
    {
     "name": "stdout",
     "output_type": "stream",
     "text": [
      "enter the number653267\n",
      "14\n"
     ]
    }
   ],
   "source": [
    "x = int(input(\"enter the number\"))\n",
    "sum = 0\n",
    "while(x!=0):\n",
    "    \n",
    "    r = x%10\n",
    "    if(r%2==0):\n",
    "        \n",
    "        sum=sum+r;\n",
    "    x=x//10\n",
    "print(sum)    "
   ]
  },
  {
   "cell_type": "markdown",
   "metadata": {},
   "source": [
    "## input: number\n",
    "## output: respective name to digit\n",
    "## test cases: 145--five four one\n",
    "## 1889--nine eight eight one\n",
    "## 120--zero two one"
   ]
  },
  {
   "cell_type": "code",
   "execution_count": 1,
   "metadata": {},
   "outputs": [
    {
     "name": "stdout",
     "output_type": "stream",
     "text": [
      "enter the number120\n",
      "zero\n",
      "two\n",
      "one\n"
     ]
    }
   ],
   "source": [
    "x=int(input(\"enter the number\"));\n",
    "while(x!=0):\n",
    "    r=x%10;\n",
    "    if(r==0):\n",
    "        print(\"zero\"); \n",
    "    elif(r==1):\n",
    "        print(\"one\");\n",
    "    elif(r==2):\n",
    "        print(\"two\");\n",
    "    x=x//10;"
   ]
  },
  {
   "cell_type": "markdown",
   "metadata": {},
   "source": [
    "## example 8:\n",
    "## input: three numbers\n",
    "## output: how many times the digit is repeated b/w 2nd and 3r numbers\n",
    "## test cases: 6,60,65-5\n",
    "## 7,70,88--12\n",
    "## 2,120,220--42"
   ]
  },
  {
   "cell_type": "code",
   "execution_count": null,
   "metadata": {},
   "outputs": [],
   "source": [
    "digit=int(input(\"enter the number\"))\n",
    "l1=int(input(\"enter the lower limit\"))\n",
    "l2=int(input(\"enter the upper limit\"))\n",
    "while(11!=12):\n",
    "    buffer=11\n",
    "    while(11!=0):\n",
    "        r=11%10;\n",
    "        if(r==digit):\n",
    "            count=count+1;\n",
    "            l1=l1//10;\n",
    "            l1=buffer;\n",
    "            l1=l1+1;\n",
    "print(\"count\");            \n",
    "    \n",
    "    "
   ]
  },
  {
   "cell_type": "markdown",
   "metadata": {},
   "source": [
    "## functional program in python\n",
    "\n"
   ]
  },
  {
   "cell_type": "code",
   "execution_count": null,
   "metadata": {},
   "outputs": [],
   "source": [
    "def finffact(n):\n",
    "    fact=1;\n",
    "    while(n!=0):\n",
    "        fact=fact*n;\n",
    "        n=n-1;\n",
    "        return fact;\n",
    "    print(findfact(5));\n",
    "    print(findfact(10));\n",
    "    print(findfact(20));"
   ]
  },
  {
   "cell_type": "code",
   "execution_count": null,
   "metadata": {},
   "outputs": [],
   "source": []
  }
 ],
 "metadata": {
  "kernelspec": {
   "display_name": "Python 3",
   "language": "python",
   "name": "python3"
  },
  "language_info": {
   "codemirror_mode": {
    "name": "ipython",
    "version": 3
   },
   "file_extension": ".py",
   "mimetype": "text/x-python",
   "name": "python",
   "nbconvert_exporter": "python",
   "pygments_lexer": "ipython3",
   "version": "3.7.3"
  }
 },
 "nbformat": 4,
 "nbformat_minor": 2
}
